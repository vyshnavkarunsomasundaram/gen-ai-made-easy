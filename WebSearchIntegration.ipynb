{
  "nbformat": 4,
  "nbformat_minor": 0,
  "metadata": {
    "colab": {
      "provenance": [],
      "authorship_tag": "ABX9TyNookGjxcx88NX+E1ZJbb4m",
      "include_colab_link": true
    },
    "kernelspec": {
      "name": "python3",
      "display_name": "Python 3"
    },
    "language_info": {
      "name": "python"
    }
  },
  "cells": [
    {
      "cell_type": "markdown",
      "metadata": {
        "id": "view-in-github",
        "colab_type": "text"
      },
      "source": [
        "<a href=\"https://colab.research.google.com/github/vyshnavkarunsomasundaram/gen-ai-made-easy/blob/main/WebSearchIntegration.ipynb\" target=\"_parent\"><img src=\"https://colab.research.google.com/assets/colab-badge.svg\" alt=\"Open In Colab\"/></a>"
      ]
    },
    {
      "cell_type": "code",
      "execution_count": null,
      "metadata": {
        "id": "Ll1E6x8nX48w"
      },
      "outputs": [],
      "source": [
        "!pip install langchain langchain_groq tavily-python"
      ]
    },
    {
      "cell_type": "code",
      "source": [
        "GROQ_API_KEY = 'GROQ_API_KEY'\n",
        "TAVILY_API_KEY = 'TAVILY_API_KEY'"
      ],
      "metadata": {
        "id": "0Hw_8RJcYNFL"
      },
      "execution_count": null,
      "outputs": []
    },
    {
      "cell_type": "code",
      "source": [
        "from langchain_groq import ChatGroq\n",
        "llm = ChatGroq(api_key=GROQ_API_KEY)"
      ],
      "metadata": {
        "id": "FS3jG393ZJGF"
      },
      "execution_count": null,
      "outputs": []
    },
    {
      "cell_type": "code",
      "source": [
        "output = llm.invoke('What is the new no tax slab in India as of Feb 2025?')\n",
        "output.content"
      ],
      "metadata": {
        "colab": {
          "base_uri": "https://localhost:8080/",
          "height": 139
        },
        "id": "n-2na2EdZToZ",
        "outputId": "6d7f5266-14e4-4fe0-9ae6-a572414cd344"
      },
      "execution_count": null,
      "outputs": [
        {
          "output_type": "execute_result",
          "data": {
            "text/plain": [
              "\"I cannot provide the exact tax slab for Feb 2025, as tax laws can change. However, I can provide the current tax slab rates in India (as of February 2023):\\n\\n* Up to INR 2.5 lakh: Nil\\n* INR 2.5 lakh to INR 5 lakh: 5%\\n* INR 5 lakh to INR 7.5 lakh: 10%\\n* INR 7.5 lakh to INR 10 lakh: 15%\\n* INR 10 lakh to INR 12.5 lakh: 20%\\n* Above INR 12.5 lakh: 30%\\n\\nPlease note that these rates are subject to change, and you should consult a tax professional or visit the Indian Income Tax Department's website for the most up-to-date information.\""
            ],
            "application/vnd.google.colaboratory.intrinsic+json": {
              "type": "string"
            }
          },
          "metadata": {},
          "execution_count": 59
        }
      ]
    },
    {
      "cell_type": "code",
      "source": [
        "from langchain.agents import tool\n",
        "from tavily import TavilyClient\n",
        "tavily_client = TavilyClient(api_key=TAVILY_API_KEY)\n",
        "\n",
        "@tool\n",
        "def web_search(query: str):\n",
        "    \"\"\"Searches the web for the given query. Input is of the form '<query>'\"\"\"\n",
        "    print('Tavily search was invoked')\n",
        "    context = tavily_client.qna_search(query)\n",
        "    return context"
      ],
      "metadata": {
        "id": "-GbqPBhxZdHs"
      },
      "execution_count": null,
      "outputs": []
    },
    {
      "cell_type": "code",
      "source": [
        "from langchain.agents import initialize_agent\n",
        "agent = initialize_agent(llm=llm, tools=[web_search])"
      ],
      "metadata": {
        "id": "_0X-v75_aVRG"
      },
      "execution_count": null,
      "outputs": []
    },
    {
      "cell_type": "code",
      "source": [
        "output = agent.invoke('What is the new no tax slab in India as of Feb 2025?')\n",
        "output['output']"
      ],
      "metadata": {
        "colab": {
          "base_uri": "https://localhost:8080/",
          "height": 52
        },
        "id": "WEpn4uNOZrcT",
        "outputId": "723b9935-4e2e-4cc9-d37d-28460a0f5a33"
      },
      "execution_count": null,
      "outputs": [
        {
          "output_type": "stream",
          "name": "stdout",
          "text": [
            "Tavily search was invoked\n"
          ]
        },
        {
          "output_type": "execute_result",
          "data": {
            "text/plain": [
              "'No tax up to 12 lakh annually in India as of Feb 2025.'"
            ],
            "application/vnd.google.colaboratory.intrinsic+json": {
              "type": "string"
            }
          },
          "metadata": {},
          "execution_count": 60
        }
      ]
    }
  ]
}